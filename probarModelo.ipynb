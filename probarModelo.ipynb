{
  "nbformat": 4,
  "nbformat_minor": 2,
  "metadata": {
    "colab": {
      "name": "Untitled12.ipynb",
      "provenance": []
    },
    "kernelspec": {
      "name": "python3",
      "display_name": "Python 3"
    },
    "language_info": {
      "name": "python"
    }
  },
  "cells": [
    {
      "cell_type": "code",
      "execution_count": 7,
      "source": [
        "import tensorflow as tf\r\n",
        "from tensorflow.keras.preprocessing import image # Pillow\r\n",
        "import numpy as np"
      ],
      "outputs": [],
      "metadata": {
        "id": "ThVL4hGOCyuf"
      }
    },
    {
      "cell_type": "code",
      "execution_count": 12,
      "source": [
        "NAME_FILE = \"cat.jpg\""
      ],
      "outputs": [],
      "metadata": {
        "id": "WB7MGVbEDmG8"
      }
    },
    {
      "cell_type": "code",
      "execution_count": null,
      "source": [
        "model = tf.keras.models.load_model(\"model.h5\")"
      ],
      "outputs": [],
      "metadata": {
        "id": "GtdybYU9D2c5"
      }
    },
    {
      "cell_type": "code",
      "execution_count": 13,
      "source": [
        "def convertir_imagen_para_modelo(nombre_imagen):\r\n",
        "    img = image.load_img(nombre_imagen, target_size=(150, 150))\r\n",
        "    x = image.img_to_array(img)\r\n",
        "    x = np.expand_dims(x, axis=0)\r\n",
        "    images = np.vstack([x])\r\n",
        "    return images\r\n",
        "\r\n",
        "def predecir(nombre_imagen):\r\n",
        "    images = convertir_imagen_para_modelo(nombre_imagen)\r\n",
        "    classes = model.predict(images, batch_size=10)\r\n",
        "    if classes[0] > 0.5:\r\n",
        "        print(NAME_FILE + \" is a dog\")\r\n",
        "        return \"DOG\"\r\n",
        "    else:\r\n",
        "        print(NAME_FILE + \" is a cat\")\r\n",
        "        return \"CAT\"\r\n"
      ],
      "outputs": [],
      "metadata": {
        "id": "eu2nyVTtDHhM"
      }
    },
    {
      "cell_type": "code",
      "execution_count": 14,
      "source": [
        "predecir(NAME_FILE)"
      ],
      "outputs": [
        {
          "output_type": "stream",
          "name": "stdout",
          "text": [
            "cat.jpg is a cat\n"
          ]
        },
        {
          "output_type": "execute_result",
          "data": {
            "application/vnd.google.colaboratory.intrinsic+json": {
              "type": "string"
            },
            "text/plain": [
              "'CAT'"
            ]
          },
          "metadata": {},
          "execution_count": 14
        }
      ],
      "metadata": {
        "colab": {
          "base_uri": "https://localhost:8080/",
          "height": 52
        },
        "id": "daBCqW6JD4k0",
        "outputId": "f501b2c9-89f8-4582-e0c8-5b4a788f8658"
      }
    }
  ]
}